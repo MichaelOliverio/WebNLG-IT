{
 "cells": [
  {
   "cell_type": "markdown",
   "metadata": {},
   "source": [
    "# Translation of test sentences with the 4 automatic translation systems\n",
    "\n",
    "<ul>\n",
    "    <li>OpusMT</li>\n",
    "    <li>M2M-100</li>\n",
    "    <li>NLLB-200</li>\n",
    "    <li>DeepL</li>\n",
    "</ul>"
   ]
  },
  {
   "cell_type": "code",
   "execution_count": 1,
   "metadata": {},
   "outputs": [
    {
     "name": "stderr",
     "output_type": "stream",
     "text": [
      "C:\\Users\\OliverioM\\AppData\\Roaming\\Python\\Python311\\site-packages\\tqdm\\auto.py:22: TqdmWarning: IProgress not found. Please update jupyter and ipywidgets. See https://ipywidgets.readthedocs.io/en/stable/user_install.html\n",
      "  from .autonotebook import tqdm as notebook_tqdm\n"
     ]
    }
   ],
   "source": [
    "import sentencepiece as spm\n",
    "import pandas as pd\n",
    "from transformers import pipeline, AutoTokenizer, TFMarianMTModel, AutoModelForSeq2SeqLM\n",
    "import deepl \n",
    "import ctranslate2"
   ]
  },
  {
   "cell_type": "markdown",
   "metadata": {},
   "source": [
    "## Source sentences extraction"
   ]
  },
  {
   "cell_type": "code",
   "execution_count": 2,
   "metadata": {},
   "outputs": [],
   "source": [
    "lines = []\n",
    "with open('datasets\\source\\sentences_en.csv', 'r', encoding='utf-8') as f:\n",
    "    for line in f:\n",
    "        lines.append(line.strip())"
   ]
  },
  {
   "cell_type": "markdown",
   "metadata": {},
   "source": [
    "## Machine translations"
   ]
  },
  {
   "cell_type": "markdown",
   "metadata": {},
   "source": [
    "### OpusMT"
   ]
  },
  {
   "cell_type": "code",
   "execution_count": null,
   "metadata": {},
   "outputs": [],
   "source": [
    "src = \"en\"  # source language\n",
    "trg = \"it\"  # target language\n",
    "\n",
    "model_name = f\"Helsinki-NLP/opus-mt-{src}-{trg}\"\n",
    "\n",
    "model = TFMarianMTModel.from_pretrained(model_name, from_pt=True)\n",
    "tokenizer = AutoTokenizer.from_pretrained(model_name)\n",
    "\n",
    "def translate_text_marian(text):\n",
    "    batch = tokenizer(text, return_tensors=\"tf\")\n",
    "    gen = model.generate(**batch)\n",
    "    return tokenizer.batch_decode(gen, skip_special_tokens=True)[0]\n",
    "\n",
    "# traduzione\n",
    "trad_lines_marian = []\n",
    "for line in lines:\n",
    "    trad = translate_text_marian(line)\n",
    "    trad_lines_marian.append(trad)\n",
    "\n",
    "# salvataggio\n",
    "df = pd.DataFrame(trad_lines_marian)\n",
    "df.to_csv(\"datasets\\candidates\\sentences_it_opusmt.csv\", index=False, header=False)"
   ]
  },
  {
   "cell_type": "markdown",
   "metadata": {},
   "source": [
    "### M2M-100"
   ]
  },
  {
   "cell_type": "code",
   "execution_count": 4,
   "metadata": {},
   "outputs": [],
   "source": [
    "translator = pipeline(\"translation_en_to_it\", model=\"facebook/m2m100_418M\")\n",
    "\n",
    "# traduzione\n",
    "trad_lines_m2m100 = []\n",
    "for line in lines:\n",
    "    trad_lines_m2m100.append(translator(line)[0]['translation_text'])\n",
    "\n",
    "# salvataggio\n",
    "df = pd.DataFrame(trad_lines_m2m100)\n",
    "df.to_csv(\"datasets\\candidates\\sentences_it_m2m100.csv\", index=False, header=False)"
   ]
  },
  {
   "cell_type": "markdown",
   "metadata": {},
   "source": [
    "### NLLB-200"
   ]
  },
  {
   "cell_type": "code",
   "execution_count": null,
   "metadata": {},
   "outputs": [],
   "source": [
    "tokenizer = AutoTokenizer.from_pretrained(\"facebook/nllb-200-distilled-600M\")\n",
    "model = AutoModelForSeq2SeqLM.from_pretrained(\"facebook/nllb-200-distilled-600M\")\n",
    "\n",
    "def translate_text_nllb200(text, src_lang = \"eng_Latn\", tgt_lang = \"ita_Latn\"):\n",
    "    input_ids = tokenizer.encode(text, return_tensors=\"pt\")\n",
    "    output_ids = model.generate(input_ids=input_ids, forced_bos_token_id=tokenizer.lang_code_to_id[tgt_lang])\n",
    "    return tokenizer.decode(output_ids[0], skip_special_tokens=True)\n",
    "\n",
    "# traduzione\n",
    "trad_lines_nllb200 = []\n",
    "for line in lines:\n",
    "    trad = translate_text_nllb200(line)\n",
    "    trad_lines_nllb200.append(trad)\n",
    "\n",
    "# salvataggio\n",
    "df = pd.DataFrame(trad_lines_nllb200)\n",
    "df.to_csv(\"datasets\\candidates\\sentences_it_nllb200.csv\", index=False, header=False)"
   ]
  },
  {
   "cell_type": "markdown",
   "metadata": {},
   "source": [
    "### DeepL"
   ]
  },
  {
   "cell_type": "code",
   "execution_count": null,
   "metadata": {},
   "outputs": [],
   "source": [
    "auth_key = \"\"\n",
    "translator = deepl.Translator(auth_key) \n",
    "\n",
    "def translate_text_deepl(text):\n",
    "    result = translator.translate_text(text, target_lang=\"it\") \n",
    "    return result.text\n",
    "\n",
    "# traduzione\n",
    "trad_lines_deepl = []\n",
    "for line in lines:\n",
    "    trad_lines_deepl.append(translate_text_deepl(line))\n",
    "\n",
    "# salvataggio\n",
    "df = pd.DataFrame(trad_lines_deepl)\n",
    "df.to_csv(\"datasets\\candidates\\sentences_it_deepl.csv\", index=False, header=False)"
   ]
  }
 ],
 "metadata": {
  "kernelspec": {
   "display_name": "Python 3",
   "language": "python",
   "name": "python3"
  },
  "language_info": {
   "codemirror_mode": {
    "name": "ipython",
    "version": 3
   },
   "file_extension": ".py",
   "mimetype": "text/x-python",
   "name": "python",
   "nbconvert_exporter": "python",
   "pygments_lexer": "ipython3",
   "version": "3.11.0"
  }
 },
 "nbformat": 4,
 "nbformat_minor": 2
}
