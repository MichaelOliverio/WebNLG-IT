{
 "cells": [
  {
   "cell_type": "code",
   "execution_count": null,
   "metadata": {
    "colab": {
     "base_uri": "https://localhost:8080/"
    },
    "executionInfo": {
     "elapsed": 3594,
     "status": "ok",
     "timestamp": 1721985620844,
     "user": {
      "displayName": "Mike 2405",
      "userId": "00117606535715305649"
     },
     "user_tz": -120
    },
    "id": "iTncmiuoUEeH",
    "outputId": "7980cd9a-25a8-468a-f0d6-585be64474b1"
   },
   "outputs": [],
   "source": [
    "!pip install scikit-learn"
   ]
  },
  {
   "cell_type": "code",
   "execution_count": null,
   "metadata": {
    "executionInfo": {
     "elapsed": 548,
     "status": "ok",
     "timestamp": 1721985621388,
     "user": {
      "displayName": "Mike 2405",
      "userId": "00117606535715305649"
     },
     "user_tz": -120
    },
    "id": "goydRn0jZkPU"
   },
   "outputs": [],
   "source": [
    "import pandas as pd"
   ]
  },
  {
   "cell_type": "code",
   "execution_count": null,
   "metadata": {
    "colab": {
     "base_uri": "https://localhost:8080/"
    },
    "executionInfo": {
     "elapsed": 23074,
     "status": "ok",
     "timestamp": 1721985644458,
     "user": {
      "displayName": "Mike 2405",
      "userId": "00117606535715305649"
     },
     "user_tz": -120
    },
    "id": "fZqZMStTUJok",
    "outputId": "a9865727-2014-484b-fdfd-9a880e34b552"
   },
   "outputs": [],
   "source": [
    "from google.colab import drive\n",
    "drive.mount('/content/drive')"
   ]
  },
  {
   "cell_type": "code",
   "execution_count": null,
   "metadata": {
    "executionInfo": {
     "elapsed": 6,
     "status": "ok",
     "timestamp": 1721985644458,
     "user": {
      "displayName": "Mike 2405",
      "userId": "00117606535715305649"
     },
     "user_tz": -120
    },
    "id": "tZ7aK2zgV-5F"
   },
   "outputs": [],
   "source": [
    "folder_path = \"/content/drive/MyDrive/Colab Notebooks/WebNLG-IT\"\n",
    "file_name = \"MT_human_evaluation_tmp.xlsx\""
   ]
  },
  {
   "cell_type": "markdown",
   "metadata": {
    "id": "VE-iNAn7UQJ0"
   },
   "source": [
    "## K di Cohen"
   ]
  },
  {
   "cell_type": "code",
   "execution_count": null,
   "metadata": {
    "colab": {
     "base_uri": "https://localhost:8080/",
     "height": 423
    },
    "executionInfo": {
     "elapsed": 1046,
     "status": "ok",
     "timestamp": 1721985906584,
     "user": {
      "displayName": "Mike 2405",
      "userId": "00117606535715305649"
     },
     "user_tz": -120
    },
    "id": "IV4dOUKhXxHQ",
    "outputId": "8cd6bcab-c003-4284-8562-1dd32790ebfc"
   },
   "outputs": [],
   "source": [
    "# read p annotations\n",
    "df_B = pd.read_excel(f'{folder_path}/{file_name}', sheet_name='1_B')\n",
    "\n",
    "# mantieni solamente la colonna 2 e 3\n",
    "df_B = df_B[['Adequacy (1-5)', 'Fluency (1-5)']]\n",
    "\n",
    "# rimuovi la prima riga\n",
    "df_B = df_B.iloc[1:]\n",
    "\n",
    "# ripristina l'indice\n",
    "df_B = df_B.reset_index(drop=True)\n",
    "\n",
    "# ottieni solo le prime 100 righe\n",
    "df_B = df_B.iloc[:100]\n",
    "\n",
    "df_B"
   ]
  },
  {
   "cell_type": "code",
   "execution_count": null,
   "metadata": {
    "colab": {
     "base_uri": "https://localhost:8080/",
     "height": 423
    },
    "executionInfo": {
     "elapsed": 816,
     "status": "ok",
     "timestamp": 1721985909960,
     "user": {
      "displayName": "Mike 2405",
      "userId": "00117606535715305649"
     },
     "user_tz": -120
    },
    "id": "F0Jtgtx7UNlQ",
    "outputId": "61f479ec-1ece-4386-9859-124c6667fa08"
   },
   "outputs": [],
   "source": [
    "# read A annotations\n",
    "df_A = pd.read_excel(f'{folder_path}/{file_name}', sheet_name='2_A')\n",
    "\n",
    "# mantieni solamente la colonna 2 e 3\n",
    "df_A = df_A[['Adequacy (1-5)', 'Fluency (1-5)']]\n",
    "\n",
    "# rimuovi la prima riga\n",
    "df_A = df_A.iloc[1:]\n",
    "\n",
    "# ripristina l'indice\n",
    "df_A = df_A.reset_index(drop=True)\n",
    "\n",
    "# ottieni solo le prime 100 righe\n",
    "df_A = df_A.iloc[:100]\n",
    "\n",
    "df_A"
   ]
  },
  {
   "cell_type": "code",
   "execution_count": null,
   "metadata": {
    "executionInfo": {
     "elapsed": 1026,
     "status": "ok",
     "timestamp": 1721985913583,
     "user": {
      "displayName": "Mike 2405",
      "userId": "00117606535715305649"
     },
     "user_tz": -120
    },
    "id": "ruVJ6YqJaLz9"
   },
   "outputs": [],
   "source": [
    "# Estrazione delle annotazioni\n",
    "fluency_annotations_1 = df_B['Fluency (1-5)'].astype(int)\n",
    "fluency_annotations_2 = df_A['Fluency (1-5)'].astype(int)\n",
    "\n",
    "adequacy_annotations_1 = df_B['Adequacy (1-5)'].astype(int)\n",
    "adequacy_annotations_2 = df_A['Adequacy (1-5)'].astype(int)"
   ]
  },
  {
   "cell_type": "code",
   "execution_count": null,
   "metadata": {
    "colab": {
     "base_uri": "https://localhost:8080/"
    },
    "executionInfo": {
     "elapsed": 4,
     "status": "ok",
     "timestamp": 1721985914798,
     "user": {
      "displayName": "Mike 2405",
      "userId": "00117606535715305649"
     },
     "user_tz": -120
    },
    "id": "PXzd3AZub3a7",
    "outputId": "321f83d5-c006-4339-92f2-b576a4c3ab83"
   },
   "outputs": [],
   "source": [
    "from sklearn.metrics import cohen_kappa_score\n",
    "\n",
    "# Calcolo del kappa di Cohen per fluency\n",
    "kappa_fluency = cohen_kappa_score(fluency_annotations_1, fluency_annotations_2)\n",
    "\n",
    "# Calcolo del kappa di Cohen per adequacy\n",
    "kappa_adequacy = cohen_kappa_score(adequacy_annotations_1, adequacy_annotations_2)\n",
    "\n",
    "print(f\"Cohen's kappa per fluency: {kappa_fluency}\")\n",
    "print(f\"Cohen's kappa per adequacy: {kappa_adequacy}\")"
   ]
  }
 ],
 "metadata": {
  "colab": {
   "authorship_tag": "ABX9TyMPf/gwKdPjIP4VdTUx/4vi",
   "machine_shape": "hm",
   "provenance": []
  },
  "kernelspec": {
   "display_name": "Python 3",
   "name": "python3"
  },
  "language_info": {
   "name": "python"
  }
 },
 "nbformat": 4,
 "nbformat_minor": 0
}
