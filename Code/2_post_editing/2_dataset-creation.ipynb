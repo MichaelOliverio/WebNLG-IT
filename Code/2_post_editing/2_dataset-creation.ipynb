{
 "cells": [
  {
   "cell_type": "markdown",
   "metadata": {},
   "source": [
    "# Creazione del dataset \"error-annotation.xml\""
   ]
  },
  {
   "cell_type": "code",
   "execution_count": null,
   "metadata": {},
   "outputs": [],
   "source": [
    "import os\n",
    "import pandas as pd\n",
    "import xml.etree.ElementTree as ET\n",
    "import xml.dom.minidom as minidom\n",
    "import spacy\n",
    "\n",
    "nlp = spacy.load('it_core_news_sm')"
   ]
  },
  {
   "cell_type": "markdown",
   "metadata": {},
   "source": [
    "## Creazione del file xml a partire dal file \"errori-annotati.txt\""
   ]
  },
  {
   "cell_type": "code",
   "execution_count": null,
   "metadata": {},
   "outputs": [],
   "source": [
    "'''\n",
    "df = pd.read_csv('errori-annotati.txt', sep=';', header=None)\n",
    "\n",
    "xml = ['<peaEntries>']\n",
    "for index, row in df.iterrows():\n",
    "    xml.append('<peaEntry>')\n",
    "    xml.append('<error>' + str(row[0]) + '</error>')\n",
    "    xml.append('<pea>' + str(row[1]) + '</pea>')\n",
    "    xml.append('<level1></level1>')\n",
    "    xml.append('<level2></level2>')\n",
    "    xml.append('</peaEntry>')\n",
    "\n",
    "xml.append('</peaEntries>')\n",
    "\n",
    "with open('error-annotation.xml', 'w', encoding='utf-8') as f:\n",
    "    for item in xml:\n",
    "        f.write(\"%s\\n\" % item)\n",
    "'''\n"
   ]
  },
  {
   "cell_type": "markdown",
   "metadata": {},
   "source": [
    "## Estrazione delle frasi dal dataset"
   ]
  },
  {
   "cell_type": "code",
   "execution_count": null,
   "metadata": {},
   "outputs": [],
   "source": [
    "triple_numbers = [\"1\", \"2\", \"3\", \"4\", \"5\", \"6\", \"7\"]\n",
    "dataset_types = [\"test\", \"dev\", \"train\"]\n",
    "\n",
    "dataset = []\n",
    "for dataset_type in dataset_types:\n",
    "    if (dataset_type == \"test\"):\n",
    "        path = \"..\\\\webnlg\\\\it\\\\test\"\n",
    "\n",
    "        file_names = []\n",
    "        for file_name in os.listdir(path):\n",
    "            if os.path.isfile(os.path.join(path, file_name)):\n",
    "                url = os.path.join(path, file_name)\n",
    "                tree = ET.parse(url)\n",
    "                root = tree.getroot()\n",
    "\n",
    "                for entry in root.iter('entry'):\n",
    "                    originaltripleset = entry.find('modifiedtripleset')\n",
    "                    otriple = originaltripleset.find('mtriple')\n",
    "\n",
    "                    for lex in entry.iter('lex'):\n",
    "                        if lex.get('lang') == \"it\":\n",
    "                            dataset.append((lex.text))\n",
    "    else:\n",
    "        for triple_number in triple_numbers:\n",
    "            path = \"..\\\\webnlg\\\\it\\\\\" + dataset_type + \"\\\\\" + triple_number + \"triples\"\n",
    "\n",
    "            file_names = []\n",
    "            for file_name in os.listdir(path):\n",
    "                if os.path.isfile(os.path.join(path, file_name)):\n",
    "                    url = os.path.join(path, file_name)\n",
    "                    tree = ET.parse(url)\n",
    "                    root = tree.getroot()\n",
    "\n",
    "\n",
    "                    for entry in root.iter('entry'):\n",
    "                        originaltripleset = entry.find('modifiedtripleset')\n",
    "                        otriple = originaltripleset.find('mtriple')\n",
    "\n",
    "                        for lex in entry.iter('lex'):\n",
    "                            if lex.get('lang') == \"it\":\n",
    "                                dataset.append(lex.text)\n",
    "\n",
    "print(len(dataset))"
   ]
  },
  {
   "cell_type": "markdown",
   "metadata": {},
   "source": [
    "## Data una frase contentente un errore, estrazione dei suoi POS\n",
    "\n",
    "Ciò mi ha aiutato a classificare meglio il dataset"
   ]
  },
  {
   "cell_type": "code",
   "execution_count": null,
   "metadata": {},
   "outputs": [],
   "source": [
    "#open error-annotation.xml\n",
    "tree = ET.parse('error-annotation.xml')\n",
    "root = tree.getroot()\n",
    "\n",
    "for peaEntry in root.iter('peaEntry'):\n",
    "    error = peaEntry.find('error').text\n",
    "    for sentence in dataset:\n",
    "        if error in sentence:\n",
    "            doc = nlp(sentence)\n",
    "\n",
    "            print(f\"Error: {error}\")\n",
    "            for token in doc:\n",
    "                if token.text in error:\n",
    "                    print(f\"Token: {token.text}, POS: {token.pos_}\")\n",
    "\n",
    "            print('\\n')\n",
    "            break"
   ]
  }
 ],
 "metadata": {
  "kernelspec": {
   "display_name": "Python 3",
   "language": "python",
   "name": "python3"
  },
  "language_info": {
   "codemirror_mode": {
    "name": "ipython",
    "version": 3
   },
   "file_extension": ".py",
   "mimetype": "text/x-python",
   "name": "python",
   "nbconvert_exporter": "python",
   "pygments_lexer": "ipython3",
   "version": "3.11.0"
  },
  "orig_nbformat": 4
 },
 "nbformat": 4,
 "nbformat_minor": 2
}
