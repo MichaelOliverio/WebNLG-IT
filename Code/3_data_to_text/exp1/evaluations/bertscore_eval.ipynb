{
 "cells": [
  {
   "cell_type": "code",
   "execution_count": null,
   "metadata": {},
   "outputs": [],
   "source": [
    "# utils\n",
    "import pandas as pd\n",
    "import os\n",
    "import numpy as np\n",
    "from nltk.tokenize import word_tokenize\n",
    "from tqdm import tqdm\n",
    "import ast\n",
    "import re\n",
    "from scipy.stats import ttest_rel\n",
    "\n",
    "# evaluation \n",
    "from evaluate import load"
   ]
  },
  {
   "cell_type": "code",
   "execution_count": null,
   "metadata": {},
   "outputs": [],
   "source": [
    "# open files in generations directory\n",
    "def open_files(directory):\n",
    "    files = os.listdir(directory)\n",
    "    files.sort()\n",
    "    return files"
   ]
  },
  {
   "cell_type": "code",
   "execution_count": null,
   "metadata": {},
   "outputs": [],
   "source": [
    "models_generations = {\n",
    "    'en': {},\n",
    "    'it': {},\n",
    "}\n",
    "\n",
    "files = open_files('generations')\n",
    "for file in files:\n",
    "    model = re.sub(r\"^fine-tuned-|-decoding-gen\\d+.csv\", \"\", file)\n",
    "    gen = re.search(r\"gen\\d+\", file).group()\n",
    "\n",
    "    model_generations = pd.read_csv('generations/' + file)\n",
    "    # convert string to list\n",
    "    model_generations['actual'] = model_generations['actual'].apply(ast.literal_eval)\n",
    "    \n",
    "    # if containt -en-\n",
    "    if '-en-' in file:\n",
    "        if model not in models_generations['en']:\n",
    "            models_generations['en'][model] = {}\n",
    "        models_generations['en'][model][gen] = model_generations\n",
    "        print(f\"model: {model} - gen: {gen}, lang: en\")\n",
    "    elif '-it-' in file:\n",
    "        if model not in models_generations['it']:\n",
    "            models_generations['it'][model] = {}\n",
    "        models_generations['it'][model][gen] = model_generations\n",
    "        print(f\"model: {model} - gen: {gen}, lang: it\")\n",
    "\n",
    "models_generations['it']['Llama-3.1-8B-Instruct-it']['gen0']"
   ]
  },
  {
   "cell_type": "markdown",
   "metadata": {},
   "source": [
    "## Valutazione automatica"
   ]
  },
  {
   "cell_type": "markdown",
   "metadata": {},
   "source": [
    "### <a href=\"https://huggingface.co/spaces/evaluate-metric/bertscore\">Bertscore</a>"
   ]
  },
  {
   "cell_type": "code",
   "execution_count": null,
   "metadata": {},
   "outputs": [],
   "source": [
    "bertscore = load(\"bertscore\")"
   ]
  },
  {
   "cell_type": "code",
   "execution_count": null,
   "metadata": {},
   "outputs": [],
   "source": [
    "from tqdm import tqdm\n",
    "import numpy as np\n",
    "\n",
    "bertscore_scores = {'en': {}, 'it': {}}\n",
    "\n",
    "for lang in models_generations:\n",
    "    for model in models_generations[lang]:\n",
    "        model_bertscore_scores = []\n",
    "        print(f'Language: {lang}, Model: {model}')\n",
    "        \n",
    "        gens = sorted(models_generations[lang][model])  # Ensure order (gen0, gen1, gen2)\n",
    "        for gen in tqdm(gens, desc=f'Processing {model} ({lang})'):\n",
    "            references = models_generations[lang][model][gen]['actual']\n",
    "            predictions = models_generations[lang][model][gen]['prediction']\n",
    "\n",
    "            results = bertscore.compute(predictions=predictions, references=references, lang=lang)\n",
    "            model_bertscore_scores.append(results['f1'])  # Store bertscore for each generation\n",
    "        \n",
    "        # Store the three bertscore scores instead of their mean\n",
    "        bertscore_scores[lang][model] = model_bertscore_scores\n",
    "        print(f'bertscore scores for {model} ({lang}): {model_bertscore_scores} - Average: {np.mean(model_bertscore_scores)}')\n",
    "        print()\n"
   ]
  },
  {
   "cell_type": "code",
   "execution_count": null,
   "metadata": {},
   "outputs": [],
   "source": [
    "#save bertscore scores\n",
    "import pickle\n",
    "\n",
    "with open('bertscore_scores-exp1.pkl', 'wb') as f:\n",
    "    pickle.dump(bertscore_scores, f)"
   ]
  }
 ],
 "metadata": {
  "kernelspec": {
   "display_name": "Python 3",
   "language": "python",
   "name": "python3"
  },
  "language_info": {
   "codemirror_mode": {
    "name": "ipython",
    "version": 3
   },
   "file_extension": ".py",
   "mimetype": "text/x-python",
   "name": "python",
   "nbconvert_exporter": "python",
   "pygments_lexer": "ipython3",
   "version": "3.11.0"
  }
 },
 "nbformat": 4,
 "nbformat_minor": 2
}
