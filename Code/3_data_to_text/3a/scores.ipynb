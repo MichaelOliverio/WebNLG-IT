{
 "cells": [
  {
   "cell_type": "code",
   "execution_count": 1,
   "metadata": {},
   "outputs": [],
   "source": [
    "# utils\n",
    "import pandas as pd\n",
    "import os\n",
    "import numpy as np\n",
    "from nltk.tokenize import word_tokenize\n",
    "from tqdm import tqdm\n",
    "import ast\n",
    "\n",
    "# evaluation \n",
    "from evaluate import load"
   ]
  },
  {
   "cell_type": "code",
   "execution_count": 2,
   "metadata": {},
   "outputs": [],
   "source": [
    "# open files in generations directory\n",
    "def open_files(directory):\n",
    "    files = os.listdir(directory)\n",
    "    files.sort()\n",
    "    return files"
   ]
  },
  {
   "cell_type": "code",
   "execution_count": 12,
   "metadata": {},
   "outputs": [
    {
     "data": {
      "text/plain": [
       "['llama2_7b_it_2epoch_decoding.csv',\n",
       " 'llama2_7b_it_sa_2epoch_decoding.csv',\n",
       " 'llamantino2_7b_it_2epoch_decoding.csv',\n",
       " 'llamantino2_7b_it_sa_2epoch_decoding.csv']"
      ]
     },
     "execution_count": 12,
     "metadata": {},
     "output_type": "execute_result"
    }
   ],
   "source": [
    "datasets = {}\n",
    "\n",
    "files = open_files('generations')\n",
    "for file in files:\n",
    "    dataset = pd.read_csv('generations/' + file)\n",
    "    datasets[file] = dataset\n",
    "files"
   ]
  },
  {
   "cell_type": "code",
   "execution_count": 4,
   "metadata": {},
   "outputs": [
    {
     "data": {
      "text/html": [
       "<div>\n",
       "<style scoped>\n",
       "    .dataframe tbody tr th:only-of-type {\n",
       "        vertical-align: middle;\n",
       "    }\n",
       "\n",
       "    .dataframe tbody tr th {\n",
       "        vertical-align: top;\n",
       "    }\n",
       "\n",
       "    .dataframe thead th {\n",
       "        text-align: right;\n",
       "    }\n",
       "</style>\n",
       "<table border=\"1\" class=\"dataframe\">\n",
       "  <thead>\n",
       "    <tr style=\"text-align: right;\">\n",
       "      <th></th>\n",
       "      <th>data points</th>\n",
       "    </tr>\n",
       "  </thead>\n",
       "  <tbody>\n",
       "    <tr>\n",
       "      <th>0</th>\n",
       "      <td>[Un monumento all'11° Fanteria del Mississippi...</td>\n",
       "    </tr>\n",
       "    <tr>\n",
       "      <th>1</th>\n",
       "      <td>[Bill Oddie è protagonista di un programma del...</td>\n",
       "    </tr>\n",
       "    <tr>\n",
       "      <th>2</th>\n",
       "      <td>[I codici postali di Karlsruhe sono 76131-76229.]</td>\n",
       "    </tr>\n",
       "    <tr>\n",
       "      <th>3</th>\n",
       "      <td>[La religione di alcuni turchi potrebbe essere...</td>\n",
       "    </tr>\n",
       "    <tr>\n",
       "      <th>4</th>\n",
       "      <td>[L'aeroporto Adolfo Suarez Madrid-Barajas è ge...</td>\n",
       "    </tr>\n",
       "    <tr>\n",
       "      <th>...</th>\n",
       "      <td>...</td>\n",
       "    </tr>\n",
       "    <tr>\n",
       "      <th>995</th>\n",
       "      <td>[L'ALCO RS-3 è stato prodotto tra il maggio 19...</td>\n",
       "    </tr>\n",
       "    <tr>\n",
       "      <th>996</th>\n",
       "      <td>[Super Capers è un film di 98 minuti distribui...</td>\n",
       "    </tr>\n",
       "    <tr>\n",
       "      <th>997</th>\n",
       "      <td>[It's Great to Be Young è stato curato da Max ...</td>\n",
       "    </tr>\n",
       "    <tr>\n",
       "      <th>998</th>\n",
       "      <td>[Lady Anne Monson, sposata con George Monson, ...</td>\n",
       "    </tr>\n",
       "    <tr>\n",
       "      <th>999</th>\n",
       "      <td>[L'Università di Cambridge è l'alma mater di B...</td>\n",
       "    </tr>\n",
       "  </tbody>\n",
       "</table>\n",
       "<p>1000 rows × 1 columns</p>\n",
       "</div>"
      ],
      "text/plain": [
       "                                           data points\n",
       "0    [Un monumento all'11° Fanteria del Mississippi...\n",
       "1    [Bill Oddie è protagonista di un programma del...\n",
       "2    [I codici postali di Karlsruhe sono 76131-76229.]\n",
       "3    [La religione di alcuni turchi potrebbe essere...\n",
       "4    [L'aeroporto Adolfo Suarez Madrid-Barajas è ge...\n",
       "..                                                 ...\n",
       "995  [L'ALCO RS-3 è stato prodotto tra il maggio 19...\n",
       "996  [Super Capers è un film di 98 minuti distribui...\n",
       "997  [It's Great to Be Young è stato curato da Max ...\n",
       "998  [Lady Anne Monson, sposata con George Monson, ...\n",
       "999  [L'Università di Cambridge è l'alma mater di B...\n",
       "\n",
       "[1000 rows x 1 columns]"
      ]
     },
     "execution_count": 4,
     "metadata": {},
     "output_type": "execute_result"
    }
   ],
   "source": [
    "data_points = pd.read_csv('data_points.csv')\n",
    "data_points['data points'] = data_points['data points'].apply(ast.literal_eval)\n",
    "data_points"
   ]
  },
  {
   "cell_type": "markdown",
   "metadata": {},
   "source": [
    "## Valutazione automatica"
   ]
  },
  {
   "cell_type": "markdown",
   "metadata": {},
   "source": [
    "### <a href=\"https://huggingface.co/spaces/evaluate-metric/bleu\">Bleu</a>"
   ]
  },
  {
   "cell_type": "code",
   "execution_count": 5,
   "metadata": {},
   "outputs": [],
   "source": [
    "bleu = load(\"bleu\")"
   ]
  },
  {
   "cell_type": "code",
   "execution_count": 15,
   "metadata": {},
   "outputs": [
    {
     "name": "stdout",
     "output_type": "stream",
     "text": [
      "llama2_7b_it_2epoch_decoding.csv BLEU: {'bleu': 0.4146736218750292, 'precisions': [0.7111454641429756, 0.4906747120131651, 0.3478509093874888, 0.24360173454638212], 'brevity_penalty': 1.0, 'length_ratio': 1.111055255330736, 'translation_length': 26522, 'reference_length': 23871}\n",
      "llama2_7b_it_sa_2epoch_decoding.csv BLEU: {'bleu': 0.4068222298130507, 'precisions': [0.7233789411064843, 0.48717736939913275, 0.3365496446263192, 0.2309492730791736], 'brevity_penalty': 1.0, 'length_ratio': 1.0563026266180722, 'translation_length': 25215, 'reference_length': 23871}\n",
      "llamantino2_7b_it_2epoch_decoding.csv BLEU: {'bleu': 0.4278339941515406, 'precisions': [0.7136303093088648, 0.5000384201629015, 0.3617148793351446, 0.259572165806559], 'brevity_penalty': 1.0, 'length_ratio': 1.1322525239830756, 'translation_length': 27028, 'reference_length': 23871}\n",
      "llamantino2_7b_it_sa_2epoch_decoding.csv BLEU: {'bleu': 0.44364521134171725, 'precisions': [0.7423611381417617, 0.5217285650641934, 0.37457262251487905, 0.2670221673791371], 'brevity_penalty': 1.0, 'length_ratio': 1.0762431402119728, 'translation_length': 25691, 'reference_length': 23871}\n"
     ]
    }
   ],
   "source": [
    "for dataset_name in datasets:\n",
    "    predictions = []\n",
    "    for index, row in datasets[dataset_name].iterrows():\n",
    "        predictions.append(row['predictions'])\n",
    "\n",
    "    references = []\n",
    "    for index, row in data_points.iterrows():\n",
    "        references.append(row['data points'])\n",
    "\n",
    "    results = bleu.compute(predictions=predictions, references=references)\n",
    "    print(dataset_name + \" BLEU: \" + str(results))"
   ]
  },
  {
   "cell_type": "code",
   "execution_count": 10,
   "metadata": {},
   "outputs": [
    {
     "name": "stdout",
     "output_type": "stream",
     "text": [
      "llama2_7b_it_2epoch_decoding.csv BLEU: {'bleu': 0.4146736218750292, 'precisions': [0.7111454641429756, 0.4906747120131651, 0.3478509093874888, 0.24360173454638212], 'brevity_penalty': 1.0, 'length_ratio': 1.111055255330736, 'translation_length': 26522, 'reference_length': 23871}\n",
      "llama2_7b_it_sa_2epoch_decoding.csv BLEU: {'bleu': 0.41349389542955556, 'precisions': [0.7288240641269317, 0.49383673821222307, 0.3429562241037651, 0.23682722216985577], 'brevity_penalty': 1.0, 'length_ratio': 1.0138661974781116, 'translation_length': 24202, 'reference_length': 23871}\n",
      "llamantino2_7b_it_2epoch_decoding.csv BLEU: {'bleu': 0.4278339941515406, 'precisions': [0.7136303093088648, 0.5000384201629015, 0.3617148793351446, 0.259572165806559], 'brevity_penalty': 1.0, 'length_ratio': 1.1322525239830756, 'translation_length': 27028, 'reference_length': 23871}\n",
      "llamantino2_7b_it_sa_2epoch_decoding.csv BLEU: {'bleu': 0.44364521134171725, 'precisions': [0.7423611381417617, 0.5217285650641934, 0.37457262251487905, 0.2670221673791371], 'brevity_penalty': 1.0, 'length_ratio': 1.0762431402119728, 'translation_length': 25691, 'reference_length': 23871}\n"
     ]
    }
   ],
   "source": [
    "for dataset_name in datasets:\n",
    "    predictions = []\n",
    "    for index, row in datasets[dataset_name].iterrows():\n",
    "        predictions.append(row['predictions'])\n",
    "\n",
    "    references = []\n",
    "    for index, row in data_points.iterrows():\n",
    "        references.append(row['data points'])\n",
    "\n",
    "    results = bleu.compute(predictions=predictions, references=references)\n",
    "    print(dataset_name + \" BLEU: \" + str(results))"
   ]
  },
  {
   "cell_type": "markdown",
   "metadata": {},
   "source": [
    "### <a href=\"https://huggingface.co/spaces/evaluate-metric/bertscore\">Bertscore</a>"
   ]
  },
  {
   "cell_type": "code",
   "execution_count": 9,
   "metadata": {},
   "outputs": [],
   "source": [
    "bertscore = load(\"bertscore\")"
   ]
  },
  {
   "cell_type": "code",
   "execution_count": 10,
   "metadata": {},
   "outputs": [
    {
     "name": "stdout",
     "output_type": "stream",
     "text": [
      "llama2_7b_it_2epoch_decoding.csv Bert precision: 0.8833115850687027 Bert recall: 0.8808526495099067 Bert f1: 0.8812159091830254\n",
      "llama2_7b_it_sa_1shot_2epoch_decoding.csv Bert precision: 0.8772746261358261 Bert recall: 0.864955677986145 Bert f1: 0.8699512004852294\n",
      "llama2_7b_it_sa_2epoch_decoding.csv Bert precision: 0.8731846770644188 Bert recall: 0.8642561140656472 Bert f1: 0.8675015712976456\n",
      "llamantino2_7b_it_2epoch_decoding.csv Bert precision: 0.8864110988378525 Bert recall: 0.882094022333622 Bert f1: 0.883266131401062\n",
      "llamantino2_7b_it_sa_2epoch_decoding.csv Bert precision: 0.8819521244168281 Bert recall: 0.875715501010418 Bert f1: 0.8778355576992035\n"
     ]
    }
   ],
   "source": [
    "for dataset_name in datasets:\n",
    "    predictions = []\n",
    "    for index, row in datasets[dataset_name].iterrows():\n",
    "        predictions.append(row['predictions'])\n",
    "\n",
    "    references = []\n",
    "    for index, row in data_points.iterrows():\n",
    "        references.append(row['data points'])\n",
    "\n",
    "    results = bertscore.compute(predictions=predictions, references=references, lang=\"it\")\n",
    "    average_precision = np.mean(results['precision'])\n",
    "    average_recall = np.mean(results['recall'])\n",
    "    average_f1 = np.mean(results['f1'])\n",
    "\n",
    "    print(dataset_name + \" Bert precision: \" + str(average_precision) + \" Bert recall: \" + str(average_recall) + \" Bert f1: \" + str(average_f1))"
   ]
  },
  {
   "cell_type": "markdown",
   "metadata": {},
   "source": [
    "### <a href=\"https://huggingface.co/spaces/evaluate-metric/chrf\">chrF++</a>"
   ]
  },
  {
   "cell_type": "code",
   "execution_count": 11,
   "metadata": {},
   "outputs": [],
   "source": [
    "chrf = load(\"chrf\")"
   ]
  },
  {
   "cell_type": "code",
   "execution_count": 12,
   "metadata": {},
   "outputs": [
    {
     "name": "stdout",
     "output_type": "stream",
     "text": [
      "llama2_7b_it_2epoch_decoding.csv chrF++: {'score': 57.452247991643155, 'char_order': 6, 'word_order': 2, 'beta': 2}\n",
      "llama2_7b_it_sa_1shot_2epoch_decoding.csv chrF++: {'score': 53.432035355745896, 'char_order': 6, 'word_order': 2, 'beta': 2}\n",
      "llama2_7b_it_sa_2epoch_decoding.csv chrF++: {'score': 54.06440295862962, 'char_order': 6, 'word_order': 2, 'beta': 2}\n",
      "llamantino2_7b_it_2epoch_decoding.csv chrF++: {'score': 58.239203118023816, 'char_order': 6, 'word_order': 2, 'beta': 2}\n",
      "llamantino2_7b_it_sa_2epoch_decoding.csv chrF++: {'score': 58.09260870276559, 'char_order': 6, 'word_order': 2, 'beta': 2}\n"
     ]
    }
   ],
   "source": [
    "for dataset_name in datasets:\n",
    "    predictions = []\n",
    "    for index, row in datasets[dataset_name].iterrows():\n",
    "        predictions.append(row['predictions'])\n",
    "\n",
    "    references = []\n",
    "    for index, row in data_points.iterrows():\n",
    "        references.append([row['data points'][0]])\n",
    "\n",
    "    results = chrf.compute(predictions=predictions, references=references, word_order=2) # word order 2 per calcolare chrF++\n",
    "    print(dataset_name + \" chrF++: \" + str(results))"
   ]
  },
  {
   "cell_type": "markdown",
   "metadata": {},
   "source": [
    "### <a href=\"https://huggingface.co/spaces/evaluate-metric/meteor\">METEOR</a>"
   ]
  },
  {
   "cell_type": "code",
   "execution_count": 13,
   "metadata": {},
   "outputs": [
    {
     "name": "stderr",
     "output_type": "stream",
     "text": [
      "[nltk_data] Downloading package wordnet to\n",
      "[nltk_data]     C:\\Users\\OliverioM\\AppData\\Roaming\\nltk_data...\n",
      "[nltk_data]   Package wordnet is already up-to-date!\n",
      "[nltk_data] Downloading package punkt to\n",
      "[nltk_data]     C:\\Users\\OliverioM\\AppData\\Roaming\\nltk_data...\n",
      "[nltk_data]   Package punkt is already up-to-date!\n",
      "[nltk_data] Downloading package omw-1.4 to\n",
      "[nltk_data]     C:\\Users\\OliverioM\\AppData\\Roaming\\nltk_data...\n",
      "[nltk_data]   Package omw-1.4 is already up-to-date!\n"
     ]
    }
   ],
   "source": [
    "meteor = load('meteor')"
   ]
  },
  {
   "cell_type": "code",
   "execution_count": 14,
   "metadata": {},
   "outputs": [
    {
     "name": "stdout",
     "output_type": "stream",
     "text": [
      "llama2_7b_it_2epoch_decoding.csv METEOR: {'meteor': 0.6651442457847393}\n",
      "llama2_7b_it_sa_1shot_2epoch_decoding.csv METEOR: {'meteor': 0.6252816799181122}\n",
      "llama2_7b_it_sa_2epoch_decoding.csv METEOR: {'meteor': 0.6283713666832174}\n",
      "llamantino2_7b_it_2epoch_decoding.csv METEOR: {'meteor': 0.6760152549862166}\n",
      "llamantino2_7b_it_sa_2epoch_decoding.csv METEOR: {'meteor': 0.6655893150817916}\n"
     ]
    }
   ],
   "source": [
    "for dataset_name in datasets:\n",
    "    predictions = []\n",
    "    for index, row in datasets[dataset_name].iterrows():\n",
    "        predictions.append(row['predictions'])\n",
    "\n",
    "    references = []\n",
    "    for index, row in data_points.iterrows():\n",
    "        references.append(row['data points'])\n",
    "\n",
    "    results = meteor.compute(predictions=predictions, references=references)\n",
    "    print(dataset_name + \" METEOR: \" + str(results))"
   ]
  }
 ],
 "metadata": {
  "kernelspec": {
   "display_name": "Python 3",
   "language": "python",
   "name": "python3"
  },
  "language_info": {
   "codemirror_mode": {
    "name": "ipython",
    "version": 3
   },
   "file_extension": ".py",
   "mimetype": "text/x-python",
   "name": "python",
   "nbconvert_exporter": "python",
   "pygments_lexer": "ipython3",
   "version": "3.11.0"
  }
 },
 "nbformat": 4,
 "nbformat_minor": 2
}
