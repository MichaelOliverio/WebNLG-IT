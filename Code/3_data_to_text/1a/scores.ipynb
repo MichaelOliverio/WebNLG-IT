{
 "cells": [
  {
   "cell_type": "code",
   "execution_count": 1,
   "metadata": {},
   "outputs": [],
   "source": [
    "# utils\n",
    "import pandas as pd\n",
    "import os\n",
    "import numpy as np\n",
    "from nltk.tokenize import word_tokenize\n",
    "from tqdm import tqdm\n",
    "import ast\n",
    "\n",
    "# evaluation \n",
    "from evaluate import load"
   ]
  },
  {
   "cell_type": "code",
   "execution_count": 2,
   "metadata": {},
   "outputs": [],
   "source": [
    "# open files in generations directory\n",
    "def open_files(directory):\n",
    "    files = os.listdir(directory)\n",
    "    files.sort()\n",
    "    return files"
   ]
  },
  {
   "cell_type": "code",
   "execution_count": 3,
   "metadata": {},
   "outputs": [
    {
     "data": {
      "text/plain": [
       "['meta-llama2_7b_en_2epoch_decoding.csv',\n",
       " 'meta-llama2_7b_it_2epoch_decoding.csv',\n",
       " 't5-large_en_2epoch_decoding.csv',\n",
       " 't5-large_it_2epoch_decoding.csv']"
      ]
     },
     "execution_count": 3,
     "metadata": {},
     "output_type": "execute_result"
    }
   ],
   "source": [
    "datasets = {}\n",
    "\n",
    "files = open_files('generations')\n",
    "for file in files:\n",
    "    dataset = pd.read_csv('generations/' + file)\n",
    "    datasets[file] = dataset\n",
    "files"
   ]
  },
  {
   "cell_type": "code",
   "execution_count": 4,
   "metadata": {},
   "outputs": [
    {
     "data": {
      "text/html": [
       "<div>\n",
       "<style scoped>\n",
       "    .dataframe tbody tr th:only-of-type {\n",
       "        vertical-align: middle;\n",
       "    }\n",
       "\n",
       "    .dataframe tbody tr th {\n",
       "        vertical-align: top;\n",
       "    }\n",
       "\n",
       "    .dataframe thead th {\n",
       "        text-align: right;\n",
       "    }\n",
       "</style>\n",
       "<table border=\"1\" class=\"dataframe\">\n",
       "  <thead>\n",
       "    <tr style=\"text-align: right;\">\n",
       "      <th></th>\n",
       "      <th>data points</th>\n",
       "    </tr>\n",
       "  </thead>\n",
       "  <tbody>\n",
       "    <tr>\n",
       "      <th>0</th>\n",
       "      <td>[A monument to the 11th Mississippi Infantry, ...</td>\n",
       "    </tr>\n",
       "    <tr>\n",
       "      <th>1</th>\n",
       "      <td>[Bill Oddie stars in a BBC programme called Ba...</td>\n",
       "    </tr>\n",
       "    <tr>\n",
       "      <th>2</th>\n",
       "      <td>[The postal codes of Karlsruhe are 76131–76229.]</td>\n",
       "    </tr>\n",
       "    <tr>\n",
       "      <th>3</th>\n",
       "      <td>[The religion of some Turkish people could be ...</td>\n",
       "    </tr>\n",
       "    <tr>\n",
       "      <th>4</th>\n",
       "      <td>[The Adolfo Suarez Madrid-Barajas airport is o...</td>\n",
       "    </tr>\n",
       "    <tr>\n",
       "      <th>...</th>\n",
       "      <td>...</td>\n",
       "    </tr>\n",
       "    <tr>\n",
       "      <th>995</th>\n",
       "      <td>[The ALCO RS-3 was produced between May 1950 a...</td>\n",
       "    </tr>\n",
       "    <tr>\n",
       "      <th>996</th>\n",
       "      <td>[Super Capers is a 98 minute film that was dis...</td>\n",
       "    </tr>\n",
       "    <tr>\n",
       "      <th>997</th>\n",
       "      <td>[It's Great to Be Young was edited by Max Bene...</td>\n",
       "    </tr>\n",
       "    <tr>\n",
       "      <th>998</th>\n",
       "      <td>[Lady Anne Monson married George Monson was a ...</td>\n",
       "    </tr>\n",
       "    <tr>\n",
       "      <th>999</th>\n",
       "      <td>[The University of Cambridge is the alma mater...</td>\n",
       "    </tr>\n",
       "  </tbody>\n",
       "</table>\n",
       "<p>1000 rows × 1 columns</p>\n",
       "</div>"
      ],
      "text/plain": [
       "                                           data points\n",
       "0    [A monument to the 11th Mississippi Infantry, ...\n",
       "1    [Bill Oddie stars in a BBC programme called Ba...\n",
       "2     [The postal codes of Karlsruhe are 76131–76229.]\n",
       "3    [The religion of some Turkish people could be ...\n",
       "4    [The Adolfo Suarez Madrid-Barajas airport is o...\n",
       "..                                                 ...\n",
       "995  [The ALCO RS-3 was produced between May 1950 a...\n",
       "996  [Super Capers is a 98 minute film that was dis...\n",
       "997  [It's Great to Be Young was edited by Max Bene...\n",
       "998  [Lady Anne Monson married George Monson was a ...\n",
       "999  [The University of Cambridge is the alma mater...\n",
       "\n",
       "[1000 rows x 1 columns]"
      ]
     },
     "execution_count": 4,
     "metadata": {},
     "output_type": "execute_result"
    }
   ],
   "source": [
    "en_data_points = pd.read_csv('en_data_points.csv')\n",
    "en_data_points['data points'] = en_data_points['data points'].apply(ast.literal_eval)\n",
    "en_data_points"
   ]
  },
  {
   "cell_type": "code",
   "execution_count": 5,
   "metadata": {},
   "outputs": [
    {
     "data": {
      "text/html": [
       "<div>\n",
       "<style scoped>\n",
       "    .dataframe tbody tr th:only-of-type {\n",
       "        vertical-align: middle;\n",
       "    }\n",
       "\n",
       "    .dataframe tbody tr th {\n",
       "        vertical-align: top;\n",
       "    }\n",
       "\n",
       "    .dataframe thead th {\n",
       "        text-align: right;\n",
       "    }\n",
       "</style>\n",
       "<table border=\"1\" class=\"dataframe\">\n",
       "  <thead>\n",
       "    <tr style=\"text-align: right;\">\n",
       "      <th></th>\n",
       "      <th>data points</th>\n",
       "    </tr>\n",
       "  </thead>\n",
       "  <tbody>\n",
       "    <tr>\n",
       "      <th>0</th>\n",
       "      <td>[Un monumento all'11° Fanteria del Mississippi...</td>\n",
       "    </tr>\n",
       "    <tr>\n",
       "      <th>1</th>\n",
       "      <td>[Bill Oddie è protagonista di un programma del...</td>\n",
       "    </tr>\n",
       "    <tr>\n",
       "      <th>2</th>\n",
       "      <td>[I codici postali di Karlsruhe sono 76131-76229.]</td>\n",
       "    </tr>\n",
       "    <tr>\n",
       "      <th>3</th>\n",
       "      <td>[La religione di alcuni turchi potrebbe essere...</td>\n",
       "    </tr>\n",
       "    <tr>\n",
       "      <th>4</th>\n",
       "      <td>[L'aeroporto Adolfo Suarez Madrid-Barajas è ge...</td>\n",
       "    </tr>\n",
       "    <tr>\n",
       "      <th>...</th>\n",
       "      <td>...</td>\n",
       "    </tr>\n",
       "    <tr>\n",
       "      <th>995</th>\n",
       "      <td>[L'ALCO RS-3 è stato prodotto tra il maggio 19...</td>\n",
       "    </tr>\n",
       "    <tr>\n",
       "      <th>996</th>\n",
       "      <td>[Super Capers è un film di 98 minuti distribui...</td>\n",
       "    </tr>\n",
       "    <tr>\n",
       "      <th>997</th>\n",
       "      <td>[It's Great to Be Young è stato curato da Max ...</td>\n",
       "    </tr>\n",
       "    <tr>\n",
       "      <th>998</th>\n",
       "      <td>[Lady Anne Monson, sposata con George Monson, ...</td>\n",
       "    </tr>\n",
       "    <tr>\n",
       "      <th>999</th>\n",
       "      <td>[L'Università di Cambridge è l'alma mater di B...</td>\n",
       "    </tr>\n",
       "  </tbody>\n",
       "</table>\n",
       "<p>1000 rows × 1 columns</p>\n",
       "</div>"
      ],
      "text/plain": [
       "                                           data points\n",
       "0    [Un monumento all'11° Fanteria del Mississippi...\n",
       "1    [Bill Oddie è protagonista di un programma del...\n",
       "2    [I codici postali di Karlsruhe sono 76131-76229.]\n",
       "3    [La religione di alcuni turchi potrebbe essere...\n",
       "4    [L'aeroporto Adolfo Suarez Madrid-Barajas è ge...\n",
       "..                                                 ...\n",
       "995  [L'ALCO RS-3 è stato prodotto tra il maggio 19...\n",
       "996  [Super Capers è un film di 98 minuti distribui...\n",
       "997  [It's Great to Be Young è stato curato da Max ...\n",
       "998  [Lady Anne Monson, sposata con George Monson, ...\n",
       "999  [L'Università di Cambridge è l'alma mater di B...\n",
       "\n",
       "[1000 rows x 1 columns]"
      ]
     },
     "execution_count": 5,
     "metadata": {},
     "output_type": "execute_result"
    }
   ],
   "source": [
    "it_data_points = pd.read_csv('it_data_points.csv')\n",
    "it_data_points['data points'] = it_data_points['data points'].apply(ast.literal_eval)\n",
    "it_data_points"
   ]
  },
  {
   "cell_type": "markdown",
   "metadata": {},
   "source": [
    "## Valutazione automatica"
   ]
  },
  {
   "cell_type": "markdown",
   "metadata": {},
   "source": [
    "### <a href=\"https://huggingface.co/spaces/evaluate-metric/bleu\">Bleu</a>"
   ]
  },
  {
   "cell_type": "code",
   "execution_count": 7,
   "metadata": {},
   "outputs": [],
   "source": [
    "bleu = load(\"bleu\")"
   ]
  },
  {
   "cell_type": "code",
   "execution_count": 8,
   "metadata": {},
   "outputs": [
    {
     "name": "stdout",
     "output_type": "stream",
     "text": [
      "meta-llama2_7b_en_2epoch_decoding.csv BLEU: {'bleu': 0.4843774663252121, 'precisions': [0.8232991687515132, 0.5760238836094526, 0.4068123957510315, 0.28532733449637315], 'brevity_penalty': 1.0, 'length_ratio': 1.0479976318349051, 'translation_length': 24782, 'reference_length': 23647}\n",
      "meta-llama2_7b_it_2epoch_decoding.csv BLEU: {'bleu': 0.41177672647440994, 'precisions': [0.694989346851811, 0.48428800244069864, 0.34640393307430023, 0.24659400544959129], 'brevity_penalty': 1.0, 'length_ratio': 1.1403795400276486, 'translation_length': 27222, 'reference_length': 23871}\n",
      "t5-large_en_2epoch_decoding.csv BLEU: {'bleu': 0.4857048076613918, 'precisions': [0.8232565983641117, 0.5757108900431376, 0.4074960861957823, 0.2881552273385462], 'brevity_penalty': 1.0, 'length_ratio': 1.003002495031082, 'translation_length': 23718, 'reference_length': 23647}\n",
      "t5-large_it_2epoch_decoding.csv BLEU: {'bleu': 0.4236152578739689, 'precisions': [0.7299880999603332, 0.5006195786864932, 0.35269280482550625, 0.24984241332733004], 'brevity_penalty': 1.0, 'length_ratio': 1.0560931674416656, 'translation_length': 25210, 'reference_length': 23871}\n"
     ]
    }
   ],
   "source": [
    "for dataset_name in datasets:\n",
    "    predictions = []\n",
    "    for index, row in datasets[dataset_name].iterrows():\n",
    "        predictions.append(row['predictions'])\n",
    "\n",
    "    # check if dataset_name contains \"en\"\n",
    "    if \"en\" in dataset_name:\n",
    "        data_points = en_data_points\n",
    "    else:\n",
    "        data_points = it_data_points\n",
    "\n",
    "    references = []\n",
    "    for index, row in data_points.iterrows():\n",
    "        references.append(row['data points'])\n",
    "\n",
    "    results = bleu.compute(predictions=predictions, references=references)\n",
    "    print(dataset_name + \" BLEU: \" + str(results))"
   ]
  },
  {
   "cell_type": "markdown",
   "metadata": {},
   "source": [
    "### <a href=\"https://huggingface.co/spaces/evaluate-metric/bertscore\">Bertscore</a>"
   ]
  },
  {
   "cell_type": "code",
   "execution_count": 9,
   "metadata": {},
   "outputs": [],
   "source": [
    "bertscore = load(\"bertscore\")"
   ]
  },
  {
   "cell_type": "code",
   "execution_count": 11,
   "metadata": {},
   "outputs": [
    {
     "name": "stderr",
     "output_type": "stream",
     "text": [
      "Some weights of RobertaModel were not initialized from the model checkpoint at roberta-large and are newly initialized: ['roberta.pooler.dense.weight', 'roberta.pooler.dense.bias']\n",
      "You should probably TRAIN this model on a down-stream task to be able to use it for predictions and inference.\n"
     ]
    },
    {
     "name": "stdout",
     "output_type": "stream",
     "text": [
      "meta-llama2_7b_en_2epoch_decoding.csv Bert precision: 0.9550041739940643 Bert recall: 0.9520425716638565 Bert f1: 0.9531879550814628\n",
      "meta-llama2_7b_it_2epoch_decoding.csv Bert precision: 0.8838927245140076 Bert recall: 0.8800082238316536 Bert f1: 0.8810591713786126\n"
     ]
    },
    {
     "name": "stderr",
     "output_type": "stream",
     "text": [
      "Some weights of RobertaModel were not initialized from the model checkpoint at roberta-large and are newly initialized: ['roberta.pooler.dense.weight', 'roberta.pooler.dense.bias']\n",
      "You should probably TRAIN this model on a down-stream task to be able to use it for predictions and inference.\n"
     ]
    },
    {
     "name": "stdout",
     "output_type": "stream",
     "text": [
      "t5-large_en_2epoch_decoding.csv Bert precision: 0.953766506254673 Bert recall: 0.9484262043833732 Bert f1: 0.9506630224585533\n",
      "t5-large_it_2epoch_decoding.csv Bert precision: 0.8795806723833084 Bert recall: 0.8745500195026398 Bert f1: 0.8761314076781272\n"
     ]
    }
   ],
   "source": [
    "for dataset_name in datasets:\n",
    "    predictions = []\n",
    "    for index, row in datasets[dataset_name].iterrows():\n",
    "        predictions.append(row['predictions'])\n",
    "\n",
    "    # check if dataset_name contains \"en\"\n",
    "    if \"en\" in dataset_name:\n",
    "        lang = \"en\"\n",
    "        data_points = en_data_points\n",
    "    else:\n",
    "        lang = \"it\"\n",
    "        data_points = it_data_points\n",
    "\n",
    "\n",
    "\n",
    "    references = []\n",
    "    for index, row in data_points.iterrows():\n",
    "        references.append(row['data points'])\n",
    "\n",
    "    results = bertscore.compute(predictions=predictions, references=references, lang=lang)\n",
    "    average_precision = np.mean(results['precision'])\n",
    "    average_recall = np.mean(results['recall'])\n",
    "    average_f1 = np.mean(results['f1'])\n",
    "\n",
    "    print(dataset_name + \" Bert precision: \" + str(average_precision) + \" Bert recall: \" + str(average_recall) + \" Bert f1: \" + str(average_f1))"
   ]
  },
  {
   "cell_type": "markdown",
   "metadata": {},
   "source": [
    "### <a href=\"https://huggingface.co/spaces/evaluate-metric/chrf\">chrF++</a>"
   ]
  },
  {
   "cell_type": "code",
   "execution_count": 6,
   "metadata": {},
   "outputs": [],
   "source": [
    "chrf = load(\"chrf\")"
   ]
  },
  {
   "cell_type": "code",
   "execution_count": 7,
   "metadata": {},
   "outputs": [
    {
     "name": "stdout",
     "output_type": "stream",
     "text": [
      "meta-llama2_7b_en_2epoch_decoding.csv chrF++: {'score': 61.592537873211086, 'char_order': 6, 'word_order': 2, 'beta': 2}\n",
      "meta-llama2_7b_it_2epoch_decoding.csv chrF++: {'score': 57.37054255146911, 'char_order': 6, 'word_order': 2, 'beta': 2}\n",
      "t5-large_en_2epoch_decoding.csv chrF++: {'score': 60.11124922239467, 'char_order': 6, 'word_order': 2, 'beta': 2}\n",
      "t5-large_it_2epoch_decoding.csv chrF++: {'score': 56.407829934847356, 'char_order': 6, 'word_order': 2, 'beta': 2}\n"
     ]
    }
   ],
   "source": [
    "for dataset_name in datasets:\n",
    "    predictions = []\n",
    "    for index, row in datasets[dataset_name].iterrows():\n",
    "        predictions.append(row['predictions'])\n",
    "\n",
    "    # check if dataset_name contains \"en\"\n",
    "    if \"en\" in dataset_name:\n",
    "        data_points = en_data_points\n",
    "    else:\n",
    "        data_points = it_data_points\n",
    "\n",
    "    references = []\n",
    "    for index, row in data_points.iterrows():\n",
    "        references.append([row['data points'][0]])\n",
    "\n",
    "    results = chrf.compute(predictions=predictions, references=references, word_order=2) # word order 2 per calcolare chrF++\n",
    "    print(dataset_name + \" chrF++: \" + str(results))"
   ]
  },
  {
   "cell_type": "markdown",
   "metadata": {},
   "source": [
    "### <a href=\"https://huggingface.co/spaces/evaluate-metric/meteor\">METEOR</a>"
   ]
  },
  {
   "cell_type": "code",
   "execution_count": 8,
   "metadata": {},
   "outputs": [
    {
     "name": "stderr",
     "output_type": "stream",
     "text": [
      "[nltk_data] Downloading package wordnet to\n",
      "[nltk_data]     C:\\Users\\AppData\\Roaming\\nltk_data...\n",
      "[nltk_data]   Package wordnet is already up-to-date!\n",
      "[nltk_data] Downloading package punkt to\n",
      "[nltk_data]     C:\\Users\\AppData\\Roaming\\nltk_data...\n",
      "[nltk_data]   Package punkt is already up-to-date!\n",
      "[nltk_data] Downloading package omw-1.4 to\n",
      "[nltk_data]     C:\\Users\\AppData\\Roaming\\nltk_data...\n",
      "[nltk_data]   Package omw-1.4 is already up-to-date!\n"
     ]
    }
   ],
   "source": [
    "meteor = load('meteor')"
   ]
  },
  {
   "cell_type": "code",
   "execution_count": 9,
   "metadata": {},
   "outputs": [
    {
     "name": "stdout",
     "output_type": "stream",
     "text": [
      "meta-llama2_7b_en_2epoch_decoding.csv METEOR: {'meteor': 0.7199273993164659}\n",
      "meta-llama2_7b_it_2epoch_decoding.csv METEOR: {'meteor': 0.6661720143184371}\n",
      "t5-large_en_2epoch_decoding.csv METEOR: {'meteor': 0.7053381616756408}\n",
      "t5-large_it_2epoch_decoding.csv METEOR: {'meteor': 0.6432971686995566}\n"
     ]
    }
   ],
   "source": [
    "for dataset_name in datasets:\n",
    "    predictions = []\n",
    "    for index, row in datasets[dataset_name].iterrows():\n",
    "        predictions.append(row['predictions'])\n",
    "\n",
    "    # check if dataset_name contains \"en\"\n",
    "    if \"en\" in dataset_name:\n",
    "        data_points = en_data_points\n",
    "    else:\n",
    "        data_points = it_data_points\n",
    "\n",
    "    references = []\n",
    "    for index, row in data_points.iterrows():\n",
    "        references.append(row['data points'])\n",
    "\n",
    "    results = meteor.compute(predictions=predictions, references=references)\n",
    "    print(dataset_name + \" METEOR: \" + str(results))"
   ]
  }
 ],
 "metadata": {
  "kernelspec": {
   "display_name": "Python 3",
   "language": "python",
   "name": "python3"
  },
  "language_info": {
   "codemirror_mode": {
    "name": "ipython",
    "version": 3
   },
   "file_extension": ".py",
   "mimetype": "text/x-python",
   "name": "python",
   "nbconvert_exporter": "python",
   "pygments_lexer": "ipython3",
   "version": "3.11.0"
  }
 },
 "nbformat": 4,
 "nbformat_minor": 2
}
