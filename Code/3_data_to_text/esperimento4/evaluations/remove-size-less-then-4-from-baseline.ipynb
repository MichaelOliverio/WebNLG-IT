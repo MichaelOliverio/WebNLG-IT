{
 "cells": [
  {
   "cell_type": "code",
   "execution_count": 24,
   "metadata": {},
   "outputs": [],
   "source": [
    "# utils\n",
    "import pandas as pd\n",
    "import os\n",
    "import numpy as np\n",
    "from nltk.tokenize import word_tokenize\n",
    "from tqdm import tqdm\n",
    "import ast\n",
    "import re\n",
    "from scipy.stats import ttest_rel\n",
    "\n",
    "# evaluation \n",
    "from evaluate import load"
   ]
  },
  {
   "cell_type": "code",
   "execution_count": 25,
   "metadata": {},
   "outputs": [
    {
     "data": {
      "text/html": [
       "<div>\n",
       "<style scoped>\n",
       "    .dataframe tbody tr th:only-of-type {\n",
       "        vertical-align: middle;\n",
       "    }\n",
       "\n",
       "    .dataframe tbody tr th {\n",
       "        vertical-align: top;\n",
       "    }\n",
       "\n",
       "    .dataframe thead th {\n",
       "        text-align: right;\n",
       "    }\n",
       "</style>\n",
       "<table border=\"1\" class=\"dataframe\">\n",
       "  <thead>\n",
       "    <tr style=\"text-align: right;\">\n",
       "      <th></th>\n",
       "      <th>eids</th>\n",
       "      <th>data_unit</th>\n",
       "      <th>prediction</th>\n",
       "      <th>actual</th>\n",
       "      <th>generation</th>\n",
       "    </tr>\n",
       "  </thead>\n",
       "  <tbody>\n",
       "    <tr>\n",
       "      <th>0</th>\n",
       "      <td>Id480</td>\n",
       "      <td>Ciudad_Ayala country Mexico | Ciudad_Ayala gov...</td>\n",
       "      <td>Ciudad Ayala, in Messico, è una città con una ...</td>\n",
       "      <td>[\"Ciudad Ayala è una città situata in Messico ...</td>\n",
       "      <td>[{'role': 'system', 'content': '\\n        You ...</td>\n",
       "    </tr>\n",
       "    <tr>\n",
       "      <th>1</th>\n",
       "      <td>Id110</td>\n",
       "      <td>Olga_Bondareva almaMater Leningrad_State_Unive...</td>\n",
       "      <td>Olga Nikolaevna Bondareva è nata il 27 aprile ...</td>\n",
       "      <td>[\"Olga Bondareva (nata Olga Nikolaevna Bondare...</td>\n",
       "      <td>[{'role': 'system', 'content': '\\n        You ...</td>\n",
       "    </tr>\n",
       "    <tr>\n",
       "      <th>2</th>\n",
       "      <td>Id775</td>\n",
       "      <td>Alan_B._Miller_Hall address \"101 Ukrop Way\" | ...</td>\n",
       "      <td>L'Alan B Miller Hall, situato al numero 101 di...</td>\n",
       "      <td>[\"La Mason School of Business (negli Stati Uni...</td>\n",
       "      <td>[{'role': 'system', 'content': '\\n        You ...</td>\n",
       "    </tr>\n",
       "    <tr>\n",
       "      <th>3</th>\n",
       "      <td>Id1722</td>\n",
       "      <td>Abraham_A._Ribicoff birthPlace United_States |...</td>\n",
       "      <td>Abraham A. Ribicoff è nato negli Stati Uniti e...</td>\n",
       "      <td>[\"Abraham A. Ribicoff è nato negli Stati Uniti...</td>\n",
       "      <td>[{'role': 'system', 'content': '\\n        You ...</td>\n",
       "    </tr>\n",
       "    <tr>\n",
       "      <th>4</th>\n",
       "      <td>Id539</td>\n",
       "      <td>ENAIRE city Madrid | Madrid country Spain | Ad...</td>\n",
       "      <td>ENAIRE si trova a Madrid, in Spagna, dove si t...</td>\n",
       "      <td>[\"L'aeroporto Adolfo Suárez Madrid-Barajas si ...</td>\n",
       "      <td>[{'role': 'system', 'content': '\\n        You ...</td>\n",
       "    </tr>\n",
       "  </tbody>\n",
       "</table>\n",
       "</div>"
      ],
      "text/plain": [
       "     eids                                          data_unit  \\\n",
       "0   Id480  Ciudad_Ayala country Mexico | Ciudad_Ayala gov...   \n",
       "1   Id110  Olga_Bondareva almaMater Leningrad_State_Unive...   \n",
       "2   Id775  Alan_B._Miller_Hall address \"101 Ukrop Way\" | ...   \n",
       "3  Id1722  Abraham_A._Ribicoff birthPlace United_States |...   \n",
       "4   Id539  ENAIRE city Madrid | Madrid country Spain | Ad...   \n",
       "\n",
       "                                          prediction  \\\n",
       "0  Ciudad Ayala, in Messico, è una città con una ...   \n",
       "1  Olga Nikolaevna Bondareva è nata il 27 aprile ...   \n",
       "2  L'Alan B Miller Hall, situato al numero 101 di...   \n",
       "3  Abraham A. Ribicoff è nato negli Stati Uniti e...   \n",
       "4  ENAIRE si trova a Madrid, in Spagna, dove si t...   \n",
       "\n",
       "                                              actual  \\\n",
       "0  [\"Ciudad Ayala è una città situata in Messico ...   \n",
       "1  [\"Olga Bondareva (nata Olga Nikolaevna Bondare...   \n",
       "2  [\"La Mason School of Business (negli Stati Uni...   \n",
       "3  [\"Abraham A. Ribicoff è nato negli Stati Uniti...   \n",
       "4  [\"L'aeroporto Adolfo Suárez Madrid-Barajas si ...   \n",
       "\n",
       "                                          generation  \n",
       "0  [{'role': 'system', 'content': '\\n        You ...  \n",
       "1  [{'role': 'system', 'content': '\\n        You ...  \n",
       "2  [{'role': 'system', 'content': '\\n        You ...  \n",
       "3  [{'role': 'system', 'content': '\\n        You ...  \n",
       "4  [{'role': 'system', 'content': '\\n        You ...  "
      ]
     },
     "execution_count": 25,
     "metadata": {},
     "output_type": "execute_result"
    }
   ],
   "source": [
    "df = pd.read_csv('generations/fine-tuned-LLaMAntino-3-ANITA-8B-Inst-DPO-ITA-it-step2_gen0.csv')\n",
    "df.head()"
   ]
  },
  {
   "cell_type": "code",
   "execution_count": 26,
   "metadata": {},
   "outputs": [
    {
     "data": {
      "text/plain": [
       "710"
      ]
     },
     "execution_count": 26,
     "metadata": {},
     "output_type": "execute_result"
    }
   ],
   "source": [
    "# get all eid\n",
    "eids = df['eids'].unique()\n",
    "len(eids)"
   ]
  },
  {
   "cell_type": "code",
   "execution_count": 27,
   "metadata": {},
   "outputs": [],
   "source": [
    "# open files in generations directory\n",
    "def open_files(directory):\n",
    "    files = os.listdir(directory)\n",
    "    files.sort()\n",
    "    return files"
   ]
  },
  {
   "cell_type": "code",
   "execution_count": 28,
   "metadata": {},
   "outputs": [],
   "source": [
    "# open files into generations/old\n",
    "files = open_files('generations/old')\n",
    "dfs = []\n",
    "for file in files:\n",
    "    df = pd.read_csv(f'generations/old/{file}')\n",
    "    dfs.append(df)"
   ]
  },
  {
   "cell_type": "code",
   "execution_count": 29,
   "metadata": {},
   "outputs": [],
   "source": [
    "#foreach file mantains only the rows with the eids in the list\n",
    "def filter_eids(df, eids):\n",
    "    return df[df['eids'].isin(eids)]\n",
    "\n",
    "\n",
    "# filter all the dataframes\n",
    "dfs = [filter_eids(df, eids) for df in dfs]\n",
    "\n",
    "# save in generations\n",
    "for i, df in enumerate(dfs):\n",
    "    df.to_csv(f'generations/{files[i]}', index=False)"
   ]
  }
 ],
 "metadata": {
  "kernelspec": {
   "display_name": "Python 3",
   "language": "python",
   "name": "python3"
  },
  "language_info": {
   "codemirror_mode": {
    "name": "ipython",
    "version": 3
   },
   "file_extension": ".py",
   "mimetype": "text/x-python",
   "name": "python",
   "nbconvert_exporter": "python",
   "pygments_lexer": "ipython3",
   "version": "3.11.0"
  }
 },
 "nbformat": 4,
 "nbformat_minor": 2
}
