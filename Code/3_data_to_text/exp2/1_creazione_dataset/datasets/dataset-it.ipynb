{
 "cells": [
  {
   "cell_type": "markdown",
   "metadata": {},
   "source": [
    "# Costruzioni dataset"
   ]
  },
  {
   "cell_type": "code",
   "execution_count": 5,
   "metadata": {},
   "outputs": [],
   "source": [
    "import os\n",
    "import sentencepiece as spm\n",
    "import pandas as pd\n",
    "import numpy as np\n",
    "import xml.etree.ElementTree as ET\n",
    "import xml.dom.minidom as minidom"
   ]
  },
  {
   "cell_type": "markdown",
   "metadata": {},
   "source": [
    "## Dataset per RDF2Text"
   ]
  },
  {
   "cell_type": "markdown",
   "metadata": {},
   "source": [
    "### Train e dev set"
   ]
  },
  {
   "cell_type": "code",
   "execution_count": 6,
   "metadata": {},
   "outputs": [],
   "source": [
    "dataset_types = [\"train\", \"dev\"] \n",
    "triple_numbers = [\"1\", \"2\", \"3\", \"4\", \"5\", \"6\", \"7\"]\n",
    "dataset = []\n",
    "\n",
    "i = 0\n",
    "for dataset_type in dataset_types:\n",
    "    for triple_number in triple_numbers:\n",
    "        path = \"..\\\\..\\\\..\\\\..\\\\webnlg\\\\it-PE\\\\\" + dataset_type + \"\\\\\" + triple_number + \"triples\"\n",
    "        file_names = []\n",
    "        for file_name in os.listdir(path):\n",
    "            if os.path.isfile(os.path.join(path, file_name)):\n",
    "                i += 1\n",
    "                url = os.path.join(path, file_name)\n",
    "                tree = ET.parse(url)\n",
    "                root = tree.getroot()\n",
    "\n",
    "                for entry in root.iter('entry'):\n",
    "                    mts = []\n",
    "                    eid = entry.get('eid')\n",
    "                    category = entry.get('category')\n",
    "                    size = entry.get('size')\n",
    "\n",
    "                    if entry.get('shape_type') is not None:\n",
    "                        shape_type = entry.get('shape_type')\n",
    "                    else:\n",
    "                        shape_type = \"NA\"\n",
    "\n",
    "                    for modifiedtripleset in entry.iter('modifiedtripleset'):\n",
    "                    #for modifiedtripleset in entry.iter('originaltripleset'):\n",
    "                        mtriples = \"\"\n",
    "\n",
    "                        triples = []\n",
    "                        for mtriple in modifiedtripleset.iter('mtriple'):  \n",
    "                        #for mtriple in modifiedtripleset.iter('otriple'):  \n",
    "                            triple = mtriple.text.split(\" | \")\n",
    "                            triple = (triple[0], triple[1], triple[2])\n",
    "                            triples.append(triple)\n",
    "\n",
    "                        triples.sort(key=lambda x: x[1])\n",
    "                        for triple in triples:\n",
    "                            mtriples += triple[0] + \" \" + triple[1] + \" \" + triple[2] + \" \"\n",
    "\n",
    "                        # if last character is space remove it\n",
    "                        if mtriples[-1] == \" \":\n",
    "                            mtriples = mtriples[:-1]\n",
    "\n",
    "                        mts.append(mtriples)\n",
    "\n",
    "                    lexs = []\n",
    "                    for lex in entry.iter('lex'):\n",
    "                        if lex.get('lang') == 'it-PE':\n",
    "                            lexs.append(lex.text)\n",
    "\n",
    "                    for mt in mts:\n",
    "                        i += 1\n",
    "                        dataset.append([eid, size, dataset_type, category, shape_type, mt, lexs])"
   ]
  },
  {
   "cell_type": "markdown",
   "metadata": {},
   "source": [
    "### Test set"
   ]
  },
  {
   "cell_type": "code",
   "execution_count": 7,
   "metadata": {},
   "outputs": [],
   "source": [
    "path = \"..\\\\..\\\\..\\\\..\\\\webnlg\\\\it-PE\\\\test\"\n",
    "file_names = []\n",
    "dataset_type = \"test\"\n",
    "\n",
    "for file_name in os.listdir(path):\n",
    "    if os.path.isfile(os.path.join(path, file_name)) and file_name == \"rdf-to-text-generation-test-data-with-refs-en.xml\":\n",
    "        i += 1\n",
    "        url = os.path.join(path, file_name)\n",
    "        tree = ET.parse(url)\n",
    "        root = tree.getroot()\n",
    "\n",
    "        for entry in root.iter('entry'):\n",
    "            mts = []\n",
    "            eid = entry.get('eid')\n",
    "            category = entry.get('category')\n",
    "            size = entry.get('size')\n",
    "\n",
    "            if entry.get('shape_type') is not None:\n",
    "                shape_type = entry.get('shape_type')\n",
    "            else:\n",
    "                shape_type = \"NA\"\n",
    "\n",
    "            for modifiedtripleset in entry.iter('modifiedtripleset'):\n",
    "            #for modifiedtripleset in entry.iter('originaltripleset'):\n",
    "                mtriples = \"\"\n",
    "\n",
    "                triples = []\n",
    "                for mtriple in modifiedtripleset.iter('mtriple'):  \n",
    "                #for mtriple in modifiedtripleset.iter('otriple'):  \n",
    "                    triple = mtriple.text.split(\" | \")\n",
    "                    triple = (triple[0], triple[1], triple[2])\n",
    "                    triples.append(triple)\n",
    "\n",
    "                triples.sort(key=lambda x: x[1])\n",
    "                for triple in triples:\n",
    "                    mtriples += triple[0] + \" \" + triple[1] + \" \" + triple[2] + \" \"\n",
    "\n",
    "                # if last character is space remove it\n",
    "                if mtriples[-1] == \" \":\n",
    "                    mtriples = mtriples[:-1]\n",
    "\n",
    "                mts.append(mtriples)\n",
    "\n",
    "            lexs = []\n",
    "            for lex in entry.iter('lex'):\n",
    "                if lex.get('lang') == 'it-PE':\n",
    "                    lexs.append(lex.text)\n",
    "\n",
    "            for mt in mts:\n",
    "                i += 1\n",
    "                dataset.append([eid, size, dataset_type, category, shape_type, mt, lexs])"
   ]
  },
  {
   "cell_type": "code",
   "execution_count": 8,
   "metadata": {},
   "outputs": [],
   "source": [
    "# create a file called ge_dataset.csv\n",
    "df = pd.DataFrame(dataset, columns = ['eid', 'size', 'dataset_type', 'category', 'shape_type', 'data_unit', 'sentence'])\n",
    "df.to_csv(\"it_dataset.csv\", index=False)"
   ]
  }
 ],
 "metadata": {
  "kernelspec": {
   "display_name": "Python 3",
   "language": "python",
   "name": "python3"
  },
  "language_info": {
   "codemirror_mode": {
    "name": "ipython",
    "version": 3
   },
   "file_extension": ".py",
   "mimetype": "text/x-python",
   "name": "python",
   "nbconvert_exporter": "python",
   "pygments_lexer": "ipython3",
   "version": "3.11.0"
  },
  "orig_nbformat": 4
 },
 "nbformat": 4,
 "nbformat_minor": 2
}
