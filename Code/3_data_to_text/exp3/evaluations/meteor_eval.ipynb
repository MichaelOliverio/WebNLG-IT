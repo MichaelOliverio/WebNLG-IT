{
 "cells": [
  {
   "cell_type": "code",
   "execution_count": null,
   "metadata": {},
   "outputs": [],
   "source": [
    "# utils\n",
    "import pandas as pd\n",
    "import os\n",
    "import numpy as np\n",
    "from nltk.tokenize import word_tokenize\n",
    "from tqdm import tqdm\n",
    "import ast\n",
    "import re\n",
    "import pickle\n",
    "\n",
    "# evaluation \n",
    "from evaluate import load"
   ]
  },
  {
   "cell_type": "code",
   "execution_count": null,
   "metadata": {},
   "outputs": [],
   "source": [
    "# open files in generations directory\n",
    "def open_files(directory):\n",
    "    files = os.listdir(directory)\n",
    "    files.sort()\n",
    "    return files"
   ]
  },
  {
   "cell_type": "code",
   "execution_count": null,
   "metadata": {},
   "outputs": [],
   "source": [
    "models_generations = {\n",
    "    'it': {},\n",
    "}\n",
    "\n",
    "files = open_files('generations')\n",
    "for file in files:\n",
    "    model = re.sub(r\"^fine-tuned-|-decoding-gen\\d+.csv\", \"\", file)\n",
    "    gen = re.search(r\"gen\\d+\", file).group()\n",
    "\n",
    "    model_generations = pd.read_csv('generations/' + file)\n",
    "    # convert string to list\n",
    "    model_generations['actual'] = model_generations['actual'].apply(ast.literal_eval)\n",
    "    \n",
    "    # if containt -en-\n",
    "    if '-it-' in file:\n",
    "        if model not in models_generations['it']:\n",
    "            models_generations['it'][model] = {}\n",
    "        models_generations['it'][model][gen] = model_generations\n",
    "        print(f\"model: {model} - gen: {gen}, lang: it\")"
   ]
  },
  {
   "cell_type": "markdown",
   "metadata": {},
   "source": [
    "## Valutazione automatica"
   ]
  },
  {
   "cell_type": "markdown",
   "metadata": {},
   "source": [
    "### <a href=\"https://huggingface.co/spaces/evaluate-metric/meteor\">METEOR</a>"
   ]
  },
  {
   "cell_type": "code",
   "execution_count": null,
   "metadata": {},
   "outputs": [],
   "source": [
    "meteor = load('meteor')"
   ]
  },
  {
   "cell_type": "code",
   "execution_count": null,
   "metadata": {},
   "outputs": [],
   "source": [
    "meteor_scores = {'it': {}}\n",
    "\n",
    "for lang in models_generations:\n",
    "    for model in models_generations[lang]:\n",
    "        model_meteor_scores = []\n",
    "        print(f'Language: {lang}, Model: {model}')\n",
    "        \n",
    "        for gen in sorted(models_generations[lang][model]):  # Ensure order (gen0, gen1, gen2)\n",
    "            references = models_generations[lang][model][gen]['actual']\n",
    "            predictions = models_generations[lang][model][gen]['prediction']\n",
    "\n",
    "            gen_meteor_scores = []\n",
    "            for i in tqdm(range(len(references)), desc=\"Calcolo punteggi METEOR\"):\n",
    "                results = meteor.compute(predictions=[predictions[i]], references=[references[i]])\n",
    "                gen_meteor_scores.append(results[\"meteor\"])\n",
    "\n",
    "            model_meteor_scores.append(gen_meteor_scores)  # Store BLEU for each generation\n",
    "        \n",
    "        # Store the three METEOR scores instead of their mean\n",
    "        meteor_scores[lang][model] = model_meteor_scores\n",
    "        print(f'BLEU scores for {model} ({lang}): {model_meteor_scores}')\n",
    "        print(f'Average: {np.mean(model_meteor_scores)}')\n",
    "        print()"
   ]
  },
  {
   "cell_type": "code",
   "execution_count": null,
   "metadata": {},
   "outputs": [],
   "source": [
    "# Save meteor scores\n",
    "with open('meteor_scores-exp3.pkl', 'wb') as f:\n",
    "    pickle.dump(meteor_scores, f)"
   ]
  }
 ],
 "metadata": {
  "kernelspec": {
   "display_name": "Python 3",
   "language": "python",
   "name": "python3"
  },
  "language_info": {
   "codemirror_mode": {
    "name": "ipython",
    "version": 3
   },
   "file_extension": ".py",
   "mimetype": "text/x-python",
   "name": "python",
   "nbconvert_exporter": "python",
   "pygments_lexer": "ipython3",
   "version": "3.11.0"
  }
 },
 "nbformat": 4,
 "nbformat_minor": 2
}
