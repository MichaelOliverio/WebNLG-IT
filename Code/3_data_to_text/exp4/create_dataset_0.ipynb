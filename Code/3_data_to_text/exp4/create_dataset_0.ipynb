{
 "cells": [
  {
   "cell_type": "markdown",
   "metadata": {},
   "source": [
    "# Costruzioni dataset"
   ]
  },
  {
   "cell_type": "code",
   "execution_count": 23,
   "metadata": {},
   "outputs": [],
   "source": [
    "import os\n",
    "import sentencepiece as spm\n",
    "import pandas as pd\n",
    "import numpy as np\n",
    "import xml.etree.ElementTree as ET\n",
    "import xml.dom.minidom as minidom"
   ]
  },
  {
   "cell_type": "markdown",
   "metadata": {},
   "source": [
    "## Variabili"
   ]
  },
  {
   "cell_type": "code",
   "execution_count": 24,
   "metadata": {},
   "outputs": [],
   "source": [
    "lingua_dataset = 'it-PE'\n",
    "tipo_dataset_generato = 'TCO'\n",
    "random_number = str(np.random.randint(0, 100000))\n",
    "flag_shape = True\n",
    "flag_shape_type = True\n",
    "flag_size = True"
   ]
  },
  {
   "cell_type": "markdown",
   "metadata": {},
   "source": [
    "## Dataset per RDF2Text"
   ]
  },
  {
   "cell_type": "markdown",
   "metadata": {},
   "source": [
    "### Train e dev set"
   ]
  },
  {
   "cell_type": "code",
   "execution_count": 25,
   "metadata": {},
   "outputs": [],
   "source": [
    "dataset_types = [\"train\", \"dev\"] \n",
    "triple_numbers = [\"1\", \"2\", \"3\", \"4\", \"5\", \"6\", \"7\"]\n",
    "\n",
    "i = 0\n",
    "for dataset_type in dataset_types:\n",
    "    dataset = []\n",
    "\n",
    "    for triple_number in triple_numbers:\n",
    "        path = \"..\\\\..\\\\webnlg\\\\it-PE\\\\\" + dataset_type + \"\\\\\" + triple_number + \"triples\"\n",
    "        file_names = []\n",
    "        for file_name in os.listdir(path):\n",
    "            if os.path.isfile(os.path.join(path, file_name)):\n",
    "                i += 1\n",
    "                url = os.path.join(path, file_name)\n",
    "                tree = ET.parse(url)\n",
    "                root = tree.getroot()\n",
    "\n",
    "                for entry in root.iter('entry'):\n",
    "                    mts = []\n",
    "                    eid = entry.get('eid')\n",
    "                    category = entry.get('category')\n",
    "                    size = entry.get('size')\n",
    "\n",
    "                    if entry.get('shape_type') is not None:\n",
    "                        shape_type = entry.get('shape_type')\n",
    "                    else:\n",
    "                        shape_type = \"NA\"\n",
    "                        print(\"Shape type not found in entry \" + eid)\n",
    "\n",
    "                    mts = []                    \n",
    "                    for modifiedtripleset in entry.iter('modifiedtripleset'):\n",
    "                        mtriples = \"\"\n",
    "\n",
    "                        triples = []\n",
    "                        for mtriple in modifiedtripleset.iter('mtriple'):  \n",
    "                            triple = mtriple.text.split(\" | \")\n",
    "                            triple = (triple[0], triple[1], triple[2])\n",
    "                            triples.append(triple)\n",
    "\n",
    "                        triples.sort(key=lambda x: x[1])\n",
    "                        for triple in triples:\n",
    "                            mtriples += triple[0] + \" \" + triple[1] + \" \" + triple[2] + \" \"\n",
    "\n",
    "                        # if last character is space remove it\n",
    "                        if mtriples[-1] == \" \":\n",
    "                            mtriples = mtriples[:-1]\n",
    "\n",
    "                        mts.append(mtriples)\n",
    "\n",
    "                    lexs = []\n",
    "                    for lex in entry.iter('lex'):\n",
    "                        if lex.get('lang') == 'it-PE':\n",
    "                            lexs.append(lex.text)\n",
    "\n",
    "                    for mt in mts:\n",
    "                        for lex in lexs:\n",
    "                            i += 1\n",
    "                            dataset.append([eid, size, category, shape_type, mt, lex])\n",
    "\n",
    "    dataset_pd = pd.DataFrame(dataset, columns = ['eid', 'size', 'category', 'shape_type', 'data_unit', 'sentence'])\n",
    "    dataset_pd.to_csv(f\"{dataset_type}_0.csv\", index=False)"
   ]
  },
  {
   "cell_type": "markdown",
   "metadata": {},
   "source": [
    "### Test set"
   ]
  },
  {
   "cell_type": "code",
   "execution_count": 26,
   "metadata": {},
   "outputs": [],
   "source": [
    "dataset = []\n",
    "\n",
    "i = 0\n",
    "\n",
    "path = \"..\\\\..\\\\WebNLG\\\\it-PE\\\\test\"\n",
    "file_names = []\n",
    "for file_name in os.listdir(path):\n",
    "    if (file_name == 'rdf-to-text-generation-test-data-with-refs-en.xml'):\n",
    "        if os.path.isfile(os.path.join(path, file_name)):\n",
    "            i += 1\n",
    "            url = os.path.join(path, file_name)\n",
    "            tree = ET.parse(url)\n",
    "            root = tree.getroot()\n",
    "\n",
    "            for entry in root.iter('entry'):\n",
    "                mts = []\n",
    "                eid = entry.get('eid')\n",
    "                category = entry.get('category')\n",
    "                size = entry.get('size')\n",
    "\n",
    "                if entry.get('shape_type') is not None:\n",
    "                    shape_type = entry.get('shape_type')\n",
    "                else:\n",
    "                    shape_type = \"NA\"\n",
    "\n",
    "                for modifiedtripleset in entry.iter('modifiedtripleset'):\n",
    "                    mtriples = \"\"\n",
    "\n",
    "                    triples = []\n",
    "                    for mtriple in modifiedtripleset.iter('mtriple'):  \n",
    "                        triple = mtriple.text.split(\" | \")\n",
    "                        triple = (triple[0], triple[1], triple[2])\n",
    "                        triples.append(triple)\n",
    "\n",
    "                    triples.sort(key=lambda x: x[1])\n",
    "                    for triple in triples:\n",
    "                        mtriples += triple[0] + \" \" + triple[1] + \" \" + triple[2] + \" | \"\n",
    "\n",
    "                   # Rimuovi l'ultimo \" | \" se presente\n",
    "                    if mtriples.endswith(\" | \"):\n",
    "                        mtriples = mtriples[:-3]\n",
    "\n",
    "                    mts.append(mtriples)\n",
    "\n",
    "                lexs = []\n",
    "                for lex in entry.iter('lex'):\n",
    "                    if lex.get('lang') == 'it-PE':\n",
    "                        lexs.append(lex.text)\n",
    "\n",
    "                for mt in mts:\n",
    "                    i += 1\n",
    "                    dataset.append([eid, size, category, shape_type, mt, lexs])\n",
    "\n",
    "dataset_pd = pd.DataFrame(dataset, columns = ['eid', 'size', 'category', 'shape_type', 'data_unit', 'sentence'])\n",
    "dataset_pd = dataset_pd.sample(frac=1, random_state=42).reset_index(drop=True)\n",
    "dataset_pd.to_csv(f\"test_0.csv\", index=False)"
   ]
  }
 ],
 "metadata": {
  "kernelspec": {
   "display_name": "Python 3",
   "language": "python",
   "name": "python3"
  },
  "language_info": {
   "codemirror_mode": {
    "name": "ipython",
    "version": 3
   },
   "file_extension": ".py",
   "mimetype": "text/x-python",
   "name": "python",
   "nbconvert_exporter": "python",
   "pygments_lexer": "ipython3",
   "version": "3.11.0"
  },
  "orig_nbformat": 4
 },
 "nbformat": 4,
 "nbformat_minor": 2
}
