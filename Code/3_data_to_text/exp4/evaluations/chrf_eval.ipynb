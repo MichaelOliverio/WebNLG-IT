{
 "cells": [
  {
   "cell_type": "code",
   "execution_count": null,
   "metadata": {},
   "outputs": [],
   "source": [
    "# utils\n",
    "import pandas as pd\n",
    "import os\n",
    "import numpy as np\n",
    "from nltk.tokenize import word_tokenize\n",
    "from tqdm import tqdm\n",
    "import ast\n",
    "import re\n",
    "import pickle\n",
    "\n",
    "# evaluation \n",
    "from evaluate import load"
   ]
  },
  {
   "cell_type": "code",
   "execution_count": null,
   "metadata": {},
   "outputs": [],
   "source": [
    "# open files in generations directory\n",
    "def open_files(directory):\n",
    "    files = os.listdir(directory)\n",
    "    files.sort()\n",
    "    return files"
   ]
  },
  {
   "cell_type": "code",
   "execution_count": null,
   "metadata": {},
   "outputs": [],
   "source": [
    "models_generations = {\n",
    "    'it': {},\n",
    "}\n",
    "\n",
    "files = open_files('generations')\n",
    "for file in files:\n",
    "    model = re.sub(r\"^fine-tuned-|-decoding-gen\\d+.csv\", \"\", file)\n",
    "    gen = re.search(r\"gen\\d+\", file).group()\n",
    "\n",
    "    model_generations = pd.read_csv('generations/' + file)\n",
    "    # convert string to list\n",
    "    model_generations['actual'] = model_generations['actual'].apply(ast.literal_eval)\n",
    "    \n",
    "    # if containt -en-\n",
    "    if '-it-' in file:\n",
    "        if model not in models_generations['it']:\n",
    "            models_generations['it'][model] = {}\n",
    "        models_generations['it'][model][gen] = model_generations\n",
    "        print(f\"model: {model} - gen: {gen}, lang: it\")"
   ]
  },
  {
   "cell_type": "markdown",
   "metadata": {},
   "source": [
    "## Valutazione automatica"
   ]
  },
  {
   "cell_type": "markdown",
   "metadata": {},
   "source": [
    "### <a href=\"https://huggingface.co/spaces/evaluate-metric/chrf\">chrF++</a>"
   ]
  },
  {
   "cell_type": "code",
   "execution_count": null,
   "metadata": {},
   "outputs": [],
   "source": [
    "chrf = load(\"chrf\")"
   ]
  },
  {
   "cell_type": "code",
   "execution_count": null,
   "metadata": {},
   "outputs": [],
   "source": [
    "chrf_scores = {'it': {}}"
   ]
  },
  {
   "cell_type": "code",
   "execution_count": null,
   "metadata": {},
   "outputs": [],
   "source": [
    "# open chrf_scores-exp3.pkl\n",
    "with open('chrf_scores-exp4.pkl', 'rb') as f:\n",
    "    chrf_scores = pickle.load(f)"
   ]
  },
  {
   "cell_type": "code",
   "execution_count": null,
   "metadata": {},
   "outputs": [],
   "source": [
    "for lang in models_generations:\n",
    "    for model in models_generations[lang]:\n",
    "        if model not in chrf_scores[lang]:\n",
    "            model_chrf_scores = []\n",
    "            print(f'Language: {lang}, Model: {model}')\n",
    "            \n",
    "            for gen in sorted(models_generations[lang][model]):  # Ensure order (gen0, gen1, gen2)\n",
    "                references = models_generations[lang][model][gen]['actual']\n",
    "                predictions = models_generations[lang][model][gen]['prediction']\n",
    "\n",
    "                gen_chrf_scores = []\n",
    "                for i in tqdm(range(len(references)), desc=\"Calcolo punteggi CHRF\"):\n",
    "                    reference_scores = []\n",
    "                    reference = references[i]\n",
    "                    for j in range(len(reference)):\n",
    "                        actual = reference[j]\n",
    "                        result = chrf.compute(predictions=[predictions[i]], references=[actual], word_order=2)\n",
    "                        reference_scores.append(result['score'])\n",
    "                    \n",
    "                    gen_chrf_scores.append(np.mean(reference_scores))\n",
    "                \n",
    "                model_chrf_scores.append(gen_chrf_scores)\n",
    "\n",
    "            # Store the three chrf scores instead of their mean\n",
    "            chrf_scores[lang][model] = model_chrf_scores\n",
    "            print(f'chrf scores for {model} ({lang}): {model_chrf_scores}')\n",
    "            print(f'Average: {np.mean(model_chrf_scores)}')\n",
    "            print()"
   ]
  },
  {
   "cell_type": "code",
   "execution_count": null,
   "metadata": {},
   "outputs": [],
   "source": [
    "# Save chrF++ scores\n",
    "with open('chrf_scores-exp4.pkl', 'wb') as f:\n",
    "    pickle.dump(chrf_scores, f)"
   ]
  }
 ],
 "metadata": {
  "kernelspec": {
   "display_name": "Python 3",
   "language": "python",
   "name": "python3"
  },
  "language_info": {
   "codemirror_mode": {
    "name": "ipython",
    "version": 3
   },
   "file_extension": ".py",
   "mimetype": "text/x-python",
   "name": "python",
   "nbconvert_exporter": "python",
   "pygments_lexer": "ipython3",
   "version": "3.11.0"
  }
 },
 "nbformat": 4,
 "nbformat_minor": 2
}
