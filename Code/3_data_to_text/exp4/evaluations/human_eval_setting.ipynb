{
 "cells": [
  {
   "cell_type": "code",
   "execution_count": 1,
   "metadata": {},
   "outputs": [],
   "source": [
    "# utils\n",
    "import pandas as pd\n",
    "import os\n",
    "import numpy as np\n",
    "from nltk.tokenize import word_tokenize\n",
    "from tqdm import tqdm\n",
    "import ast\n",
    "import re\n",
    "import pickle\n",
    "\n",
    "# evaluation \n",
    "from evaluate import load"
   ]
  },
  {
   "cell_type": "code",
   "execution_count": 2,
   "metadata": {},
   "outputs": [],
   "source": [
    "# open files in generations directory\n",
    "def open_files(directory):\n",
    "    files = os.listdir(directory)\n",
    "    files.sort()\n",
    "    return files"
   ]
  },
  {
   "cell_type": "code",
   "execution_count": 7,
   "metadata": {},
   "outputs": [
    {
     "name": "stdout",
     "output_type": "stream",
     "text": [
      "LLaMAntino-3-ANITA-8B-Inst-DPO-ITA-it\n",
      "LLaMAntino-3-ANITA-8B-Inst-DPO-ITA-it-sga\n",
      "Mistral-Nemo-Instruct-2407-it\n",
      "Mistral-Nemo-Instruct-2407-it-sga\n"
     ]
    }
   ],
   "source": [
    "models_generations = {}\n",
    "\n",
    "files = open_files('geneartions_human_eval')\n",
    "for file in files:\n",
    "    model = re.sub(r\"^fine-tuned-|-decoding-gen\\d+.csv\", \"\", file)\n",
    "    gen = re.search(r\"gen\\d+\", file).group()\n",
    "\n",
    "    models_generations[model] = pd.DataFrame(pd.read_csv('generations/' + file)).head(50)\n",
    "    print(model)\n",
    "\n",
    "# create an excel, with a sheet for each model\n",
    "#with pd.ExcelWriter('new_sga_human_eval.xlsx') as writer:\n",
    "#    for model, generations in models_generations.items():\n",
    "#        generations.to_excel(writer, sheet_name=model)"
   ]
  }
 ],
 "metadata": {
  "kernelspec": {
   "display_name": "Python 3",
   "language": "python",
   "name": "python3"
  },
  "language_info": {
   "codemirror_mode": {
    "name": "ipython",
    "version": 3
   },
   "file_extension": ".py",
   "mimetype": "text/x-python",
   "name": "python",
   "nbconvert_exporter": "python",
   "pygments_lexer": "ipython3",
   "version": "3.11.0"
  }
 },
 "nbformat": 4,
 "nbformat_minor": 2
}
